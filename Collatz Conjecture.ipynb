{
 "cells": [
  {
   "cell_type": "code",
   "execution_count": 11,
   "id": "ee41cdf9",
   "metadata": {},
   "outputs": [
    {
     "name": "stdout",
     "output_type": "stream",
     "text": [
      "Enter a number n>1 :  dfb\n",
      "Please enter a number!!\n",
      "Enter a number n>1 :  reg\n",
      "Please enter a number!!\n",
      "Enter a number n>1 :  43fg34\n",
      "Please enter a number!!\n",
      "Enter a number n>1 :  ggiwrgilrthn\n",
      "Please enter a number!!\n",
      "Enter a number n>1 :  refwerg\n",
      "Please enter a number!!\n",
      "Enter a number n>1 :  qerger\n",
      "Please enter a number!!\n",
      "Enter a number n>1 :  gerg\n",
      "Please enter a number!!\n",
      "Enter a number n>1 :  erge\n",
      "Please enter a number!!\n",
      "Enter a number n>1 :  rqge\n",
      "Please enter a number!!\n",
      "Enter a number n>1 :  2342\n",
      "It took 58 steps to reach 1\n"
     ]
    }
   ],
   "source": [
    "\n",
    "n=  input(\"Enter a number n>1 :  \")\n",
    "while n.isdecimal() == False:\n",
    "    print(\"Please enter a number!!\")\n",
    "    n=  input(\"Enter a number n>1 :  \")\n",
    "n=int(n)\n",
    "i=0\n",
    "while n!=1:\n",
    "    if n%2==0:\n",
    "        n=n/2\n",
    "    else:\n",
    "        n=n*3+1\n",
    "    i+=1\n",
    "print(\"It took {} steps to reach 1\".format(i))"
   ]
  },
  {
   "cell_type": "raw",
   "id": "fa56108c",
   "metadata": {},
   "source": []
  }
 ],
 "metadata": {
  "kernelspec": {
   "display_name": "Python 3",
   "language": "python",
   "name": "python3"
  },
  "language_info": {
   "codemirror_mode": {
    "name": "ipython",
    "version": 3
   },
   "file_extension": ".py",
   "mimetype": "text/x-python",
   "name": "python",
   "nbconvert_exporter": "python",
   "pygments_lexer": "ipython3",
   "version": "3.8.8"
  }
 },
 "nbformat": 4,
 "nbformat_minor": 5
}
